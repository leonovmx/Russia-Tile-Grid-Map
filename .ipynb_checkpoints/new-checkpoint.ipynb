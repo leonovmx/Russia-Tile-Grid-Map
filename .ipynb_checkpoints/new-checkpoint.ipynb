{
 "cells": [
  {
   "cell_type": "code",
   "execution_count": 4,
   "id": "bc4c4cc9",
   "metadata": {},
   "outputs": [],
   "source": [
    "import pandas as pd\n"
   ]
  },
  {
   "cell_type": "code",
   "execution_count": 5,
   "id": "57fbea55",
   "metadata": {},
   "outputs": [],
   "source": [
    "grid_table = pd.read_csv('./grid_table.csv', sep = \";\")\n"
   ]
  },
  {
   "cell_type": "code",
   "execution_count": 6,
   "id": "afed4db0",
   "metadata": {},
   "outputs": [
    {
     "data": {
      "text/html": [
       "<div>\n",
       "<style scoped>\n",
       "    .dataframe tbody tr th:only-of-type {\n",
       "        vertical-align: middle;\n",
       "    }\n",
       "\n",
       "    .dataframe tbody tr th {\n",
       "        vertical-align: top;\n",
       "    }\n",
       "\n",
       "    .dataframe thead th {\n",
       "        text-align: right;\n",
       "    }\n",
       "</style>\n",
       "<table border=\"1\" class=\"dataframe\">\n",
       "  <thead>\n",
       "    <tr style=\"text-align: right;\">\n",
       "      <th></th>\n",
       "      <th>subj_full</th>\n",
       "      <th>fed_district_full</th>\n",
       "      <th>fed_district_short</th>\n",
       "      <th>subj_alt_rus</th>\n",
       "      <th>subj_eng</th>\n",
       "      <th>subj_rus</th>\n",
       "      <th>col</th>\n",
       "      <th>row</th>\n",
       "    </tr>\n",
       "  </thead>\n",
       "  <tbody>\n",
       "    <tr>\n",
       "      <th>0</th>\n",
       "      <td>Алтайский край</td>\n",
       "      <td>Сибирский федеральный округ</td>\n",
       "      <td>СФО</td>\n",
       "      <td>Ал. к.</td>\n",
       "      <td>ALK</td>\n",
       "      <td>АЛТК</td>\n",
       "      <td>12</td>\n",
       "      <td>5</td>\n",
       "    </tr>\n",
       "    <tr>\n",
       "      <th>1</th>\n",
       "      <td>Амурская область</td>\n",
       "      <td>Дальневосточный федеральный округ</td>\n",
       "      <td>ДФО</td>\n",
       "      <td>Амур</td>\n",
       "      <td>AMU</td>\n",
       "      <td>АМУР</td>\n",
       "      <td>15</td>\n",
       "      <td>3</td>\n",
       "    </tr>\n",
       "    <tr>\n",
       "      <th>2</th>\n",
       "      <td>Архангельская область</td>\n",
       "      <td>Северо-Западный федеральный округ</td>\n",
       "      <td>СЗФО</td>\n",
       "      <td>Арх</td>\n",
       "      <td>ARH</td>\n",
       "      <td>АРХ</td>\n",
       "      <td>8</td>\n",
       "      <td>2</td>\n",
       "    </tr>\n",
       "    <tr>\n",
       "      <th>3</th>\n",
       "      <td>Астраханская область</td>\n",
       "      <td>Южный федеральный округ</td>\n",
       "      <td>ЮФО</td>\n",
       "      <td>Аст</td>\n",
       "      <td>AST</td>\n",
       "      <td>АСТ</td>\n",
       "      <td>7</td>\n",
       "      <td>8</td>\n",
       "    </tr>\n",
       "    <tr>\n",
       "      <th>4</th>\n",
       "      <td>Белгородская область</td>\n",
       "      <td>Центральный федеральный округ</td>\n",
       "      <td>ЦФО</td>\n",
       "      <td>Бел</td>\n",
       "      <td>BEL</td>\n",
       "      <td>БЕЛ</td>\n",
       "      <td>4</td>\n",
       "      <td>7</td>\n",
       "    </tr>\n",
       "  </tbody>\n",
       "</table>\n",
       "</div>"
      ],
      "text/plain": [
       "               subj_full                  fed_district_full  \\\n",
       "0         Алтайский край        Сибирский федеральный округ   \n",
       "1       Амурская область  Дальневосточный федеральный округ   \n",
       "2  Архангельская область  Северо-Западный федеральный округ   \n",
       "3   Астраханская область            Южный федеральный округ   \n",
       "4   Белгородская область      Центральный федеральный округ   \n",
       "\n",
       "  fed_district_short subj_alt_rus subj_eng subj_rus  col  row  \n",
       "0                СФО       Ал. к.      ALK     АЛТК   12    5  \n",
       "1                ДФО         Амур      AMU     АМУР   15    3  \n",
       "2               СЗФО          Арх      ARH      АРХ    8    2  \n",
       "3                ЮФО          Аст      AST      АСТ    7    8  \n",
       "4                ЦФО          Бел      BEL      БЕЛ    4    7  "
      ]
     },
     "execution_count": 6,
     "metadata": {},
     "output_type": "execute_result"
    }
   ],
   "source": [
    "grid_table.head()"
   ]
  },
  {
   "cell_type": "code",
   "execution_count": null,
   "id": "32b24154",
   "metadata": {},
   "outputs": [],
   "source": []
  }
 ],
 "metadata": {
  "kernelspec": {
   "display_name": "Python 3 (ipykernel)",
   "language": "python",
   "name": "python3"
  },
  "language_info": {
   "codemirror_mode": {
    "name": "ipython",
    "version": 3
   },
   "file_extension": ".py",
   "mimetype": "text/x-python",
   "name": "python",
   "nbconvert_exporter": "python",
   "pygments_lexer": "ipython3",
   "version": "3.11.8"
  }
 },
 "nbformat": 4,
 "nbformat_minor": 5
}
